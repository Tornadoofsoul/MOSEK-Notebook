{
 "cells": [
  {
   "cell_type": "markdown",
   "metadata": {},
   "source": [
    "![MOSEK ApS](https://mosek.com/files/mosek_logo_color.png )\n",
    "\n",
    "\n",
    "#Portfolio Selection using MOSEK Optimizer API\n",
    "\n",
    "\n",
    "Portfolio selection (or portfolio management) is the art and science of making decisions about investment mix and policy, matching investments to objectives, asset allocation for individuals and institutions, and balancing risk against performance.\n",
    "\n",
    "The aim of this tutorial is two-fold:\n",
    "\n",
    "1. to show some modeling techniques to define portfolio selections problems;\n",
    "2. to show how to efficiently implement those problems using MOSEK Optimizer API.\n",
    "\n",
    "\n",
    "This tutorial is largerly based on:\n",
    "\n",
    "    [1] Bai, X., Scheinberg, K., Tutuncu, R. (2013). Least-squares approach to risk parity in portfolio selection\n",
    "\n",
    "The code is written in Python2 and uses the [MOSEK Optimizer API](https://mosek.com/resources/doc) version 7.1."
   ]
  },
  {
   "cell_type": "markdown",
   "metadata": {},
   "source": [
    "#The basics"
   ]
  },
  {
   "cell_type": "markdown",
   "metadata": {},
   "source": [
    "Consider the problem of an investor, who has to invest his money in $n$ different assets. Which allocation strategy should he use to obtain the maximum $\\textit{benefit}$ from his investment?\n",
    "\n",
    "Let $x_1, x_2, .. , x_n$ be the percentage of money invested in assets $1,2,..,n$. Every asset has his mean $\\mu_i$ and his variance $\\sigma^2_i$ and assume to know the covariance between different assets $\\sigma_{i,j}$. Let $\\Sigma$ be the covariance matrix, with elements $\\Sigma_{i,j} = \\sigma_{i,j}$. We can then define two global measures of the whole portfolio:\n",
    "$$\n",
    "\\mu =\\sum_{i=1}^n \\mu_i x_i\n",
    "$$\n",
    "\n",
    "$$\n",
    "\\sigma^2 = \\sum_{i=1}^n \\sum_{j=1}^n \\sigma_{i,j}x_i x_j = x^T \\Sigma x\n",
    "$$\n",
    "\n",
    "For different choices of $x_1, ..., x_n$ the investor will get different combinations of $\\mu$ and $\\sigma^2$. The set of all possible ($\\sigma^2$, $\\mu$) combinations is called the $\\textit{attainable set}$. Those ($\\sigma^2$, $\\mu$) with minimum $\\sigma^2$ for a given $\\mu$ or more and maximum $\\mu$ for a given $\\sigma^2$ or less are called the $\\textit{efficient set}$ (or efficient frontier).\n",
    "![Efficient Frontier](http://i67.tinypic.com/296dxfr.png)\n",
    "The solution of the following $\\textit{convex}$ optimization problem lies in the efficient set:\n",
    "\n",
    "$$\n",
    "\\begin{aligned}\n",
    "&\\min_x &&\\frac{1}{2}x^T \\Sigma x\\\\\n",
    "&\\text{s.t.}\n",
    "&&\\mu^T x \\geq R\\\\\n",
    "&&&\\sum\\limits_{i=1}^n x_i=1\\\\\n",
    "&&&x \\geq 0\n",
    "\\end{aligned}\n",
    "$$\n",
    "\n",
    "where $R$ is a lower bound on the target expected return of the portfolio. The above problem is often referred as $\\textbf{Mean-Variance Optimization (MVO)}$. The main problems of the mean-variance approach are three:\n",
    "* tends to produce portfolios with unreasonably large weights for certain asset \n",
    "* difficulty of estimating expected returns accurately\n",
    "* sensitivity of the optimal weights to small changes in expected returns"
   ]
  },
  {
   "cell_type": "markdown",
   "metadata": {},
   "source": [
    "#Risk Parity\n"
   ]
  },
  {
   "cell_type": "markdown",
   "metadata": {},
   "source": [
    "\n",
    "\n",
    "\n",
    "Unlike the classic mean-variance approach, risk based strategies do not incorporate expected returns into the formulation. With $\\textit{risk}$ is intended a measurement of the likelihood that an investment will go up and down in value, and how often and by how much. The theory assumes that investors prefer to minimize risk; in fact, it assumes that given the choice of two portfolios with equal returns, investors will choose the one with the least risk.\n",
    "\n",
    "In a fully-invested portfolio, every asset $i$ has his contribution in terms of risk. Let $RC_i(x)$ be this contribution, we have that the total risk of the invested portfolio is:\n",
    "\n",
    "$$\n",
    "\\mathcal{R}(x) = \\sum_{i=1}^n RC_i(x)\n",
    "$$\n",
    "\n",
    "where\n",
    "\n",
    "$$\n",
    "RC_i(x) = x_i \\frac{\\delta \\mathcal{R}(x)}{\\delta x_i}\n",
    "$$\n",
    "\n",
    "Let $b=(b_1,..,b_n)$ be a vector of $\\textbf{budgets}$ such as $b_i > 0$ and $\\sum_{i=1}^n b_i = 1$. The simplest way to define a risk parity (or risk budgeting) portfolio is through the following system of constraints:\n",
    "\n",
    "$$\n",
    "\\begin{aligned}\n",
    "&\\begin{cases}\n",
    "RC_1(x) = b_1 \\mathcal{R}(x)\\\\\n",
    "..\\\\\n",
    "RC_i(x) = b_i \\mathcal{R}(x)\\\\\n",
    "..\\\\\n",
    "RC_n(x) = b_n \\mathcal{R}(x)\n",
    "\\end{cases}\n",
    "\\end{aligned}\n",
    "$$\n",
    "\n",
    "From the above equations, we can write the risk parity constraint as:\n",
    "\n",
    "$$\n",
    "x_i \\frac{\\delta_{x_i} \\mathcal{R}(x)}{b_i} = x_j \\frac{\\delta_{x_j} \\mathcal{R}(x)}{b_j} \\hspace{1em} \\forall i,j\n",
    "$$\n",
    "\n",
    "The Risk Parity portfolio is defined by this system of equations:\n",
    "\n",
    "$$\n",
    "\\begin{aligned}\n",
    "&x_i \\frac{\\delta_{x_i} \\mathcal{R}(x)}{b_i} = x_j \\frac{\\delta_{x_j} \\mathcal{R}(x)}{b_j} \\hspace{1em} &&\\forall i,j\\\\\n",
    "&x_i \\geq 0,  &&b_i > 0 \\\\\n",
    "&\\sum_{i=1}^n x_i = 1,  &&\\sum_{i=1}^n b_i = 1\n",
    "\\end{aligned}\n",
    "$$\n",
    "\n",
    "If we set\n",
    "\n",
    "$$\n",
    "\\mathcal{R}(x) = \\sqrt{x^T\\Sigma x}\n",
    "$$\n",
    "\n",
    "solve the following problem that incorporates a logarithmic barrier in the objective function is equivalent to find a Risk Parity solution:\n",
    "\n",
    "$$\n",
    "\\begin{aligned}\n",
    "& \\underset{x}{\\text{min}}\n",
    "&&\\frac{1}{2} x^T \\Sigma x - c \\sum_{i=1}^{n} b_i ln(x_i)\\\\\n",
    "& \\text{s.t.}\n",
    "&& x_i > 0 \\hspace{1em} \\forall i\n",
    "\\end{aligned}\n",
    "$$\n",
    "\n",
    "where $b_i > 0$, $\\sum_i b_i = 1$ and $c$ is a positive constant.\n",
    "\n",
    "$\\textit{Proof.}$ Since $\\Sigma$ is positive semidefinite and the logarithm function is strictly concave, the objective function is $\\textbf{strictly convex}$. From the first order condition, the unique solution is in corrispondence of the point where the gradient of the objective function is zero:\n",
    "\n",
    "$$\n",
    "\\Sigma x - c b_i x^{-1} = 0\n",
    "$$\n",
    "\n",
    "Hence, at optimality we have\n",
    "\n",
    "$$\n",
    "(\\Sigma x)_i = \\frac{c b_i}{x_i} \\Rightarrow \\frac{x_i(\\Sigma x)_i}{b_i} = \\frac{x_j(\\Sigma x)_j}{b_j}, \\quad \\forall i,j\n",
    "$$\n"
   ]
  },
  {
   "cell_type": "markdown",
   "metadata": {},
   "source": [
    "#MOSEK Implementation"
   ]
  },
  {
   "cell_type": "markdown",
   "metadata": {},
   "source": [
    "First of all, we have to import the MOSEK library into the project. Before setting up the optimization problem, a MOSEK $\\textbf{environment}$ must be created. All tasks in the program should share the same environment."
   ]
  },
  {
   "cell_type": "code",
   "execution_count": 100,
   "metadata": {
    "collapsed": true
   },
   "outputs": [],
   "source": [
    "import mosek\n",
    "import numpy as np\n",
    "\n",
    "env = mosek.Env()"
   ]
  },
  {
   "cell_type": "markdown",
   "metadata": {},
   "source": [
    "Next, an empty $\\textbf{task}$ object is created:"
   ]
  },
  {
   "cell_type": "code",
   "execution_count": 101,
   "metadata": {
    "collapsed": true
   },
   "outputs": [],
   "source": [
    "task = env.Task()"
   ]
  },
  {
   "cell_type": "markdown",
   "metadata": {},
   "source": [
    "Now, we create some sample data. In this case we have 5 assets and we randomly generate a semidefinite-positive covariance matrix."
   ]
  },
  {
   "cell_type": "code",
   "execution_count": 102,
   "metadata": {
    "collapsed": false
   },
   "outputs": [],
   "source": [
    "n = 10\n",
    "\n",
    "A = np.random.sample([n,n])\n",
    "\n",
    "#Q is our covariance matrix\n",
    "Q = np.dot(A,A.transpose())\n",
    "\n",
    "#b is the vector of budgets \n",
    "b = np.random.sample(n)\n",
    "b = b/np.sum(b)"
   ]
  },
  {
   "cell_type": "markdown",
   "metadata": {},
   "source": [
    "For this type of problem, we have $n$ variables and $1$ constraint. So we set them into the task:"
   ]
  },
  {
   "cell_type": "code",
   "execution_count": 103,
   "metadata": {
    "collapsed": false
   },
   "outputs": [],
   "source": [
    "numvar = n\n",
    "numcon = 1\n",
    "\n",
    "task.appendvars(numvar)\n",
    "task.appendcons(numcon)"
   ]
  },
  {
   "cell_type": "markdown",
   "metadata": {},
   "source": [
    "We have to write the constraint $x>0$. The bounds on variables are stored in the arrays:"
   ]
  },
  {
   "cell_type": "code",
   "execution_count": 104,
   "metadata": {
    "collapsed": false
   },
   "outputs": [],
   "source": [
    "# Bound keys for variables \n",
    "bkx = [mosek.boundkey.lo] * n\n",
    "    \n",
    "# Bound values for variables \n",
    "blx = np.zeros(n)\n",
    "bux = [np.infty] * n"
   ]
  },
  {
   "cell_type": "markdown",
   "metadata": {},
   "source": [
    "Now we have to set the bounds for every variable $x_j$ with a loop:"
   ]
  },
  {
   "cell_type": "code",
   "execution_count": 105,
   "metadata": {
    "collapsed": true
   },
   "outputs": [],
   "source": [
    "for j in range(numvar):\n",
    "    task.putbound(mosek.accmode.var, j, bkx[j], blx[j], bux[j])"
   ]
  },
  {
   "cell_type": "markdown",
   "metadata": {},
   "source": [
    "The next step is to write down the objective function. Since the covariance matrix $\\Sigma$ is symmetric, we can use only his upper-triangle:"
   ]
  },
  {
   "cell_type": "code",
   "execution_count": 106,
   "metadata": {
    "collapsed": true
   },
   "outputs": [],
   "source": [
    "#extract the indexes of the upper-triangle of the covariance matrix\n",
    "indexes = np.tril_indices(numvar)\n",
    "qsubi = indexes[0]\n",
    "qsubj = indexes[1]\n",
    "\n",
    "#create the upper-triangle matrix with the indexes previously extracted\n",
    "qval = np.tril(Q)[indexes]"
   ]
  },
  {
   "cell_type": "markdown",
   "metadata": {},
   "source": [
    "Now, we can add the first part of the objective function to the task:"
   ]
  },
  {
   "cell_type": "code",
   "execution_count": 107,
   "metadata": {
    "collapsed": true
   },
   "outputs": [],
   "source": [
    "task.putqobj(qsubi,qsubj,qval)"
   ]
  },
  {
   "cell_type": "markdown",
   "metadata": {},
   "source": [
    "Now, we have to add the logarithmic term to the objective function. In MOSEK, logarithm is seen as an instance of a $\\textbf{separable term}$. Each individual term can be describes by a set of values:"
   ]
  },
  {
   "cell_type": "code",
   "execution_count": 108,
   "metadata": {
    "collapsed": false
   },
   "outputs": [],
   "source": [
    "#define the logarithm for n variables\n",
    "opro = [mosek.scopr.log] * n \n",
    "\n",
    "#define the variable indexes\n",
    "oprjo = np.array([i for i in range(n)])\n",
    "\n",
    "#define the multiplicative term (in this case we assume c=1)\n",
    "oprfo = -b\n",
    "\n",
    "#define the exponential terms\n",
    "oprgo = np.ones(n)\n",
    "\n",
    "#define the additive terms\n",
    "oprho = np.zeros(n)"
   ]
  },
  {
   "cell_type": "markdown",
   "metadata": {},
   "source": [
    "We can now input the separable terms using the $Task.putSCeval$ function:"
   ]
  },
  {
   "cell_type": "code",
   "execution_count": 109,
   "metadata": {
    "collapsed": false
   },
   "outputs": [],
   "source": [
    "task.putSCeval(opro, oprjo, oprfo, oprgo, oprho)"
   ]
  },
  {
   "cell_type": "markdown",
   "metadata": {},
   "source": [
    "Now we have to tell to the optimizer that is a minimization problem:\n"
   ]
  },
  {
   "cell_type": "code",
   "execution_count": 110,
   "metadata": {
    "collapsed": true
   },
   "outputs": [],
   "source": [
    "# Input the objective sense (minimize/maximize) \n",
    "task.putobjsense(mosek.objsense.minimize) "
   ]
  },
  {
   "cell_type": "markdown",
   "metadata": {},
   "source": [
    "Finally, we call the optimization routine:"
   ]
  },
  {
   "cell_type": "code",
   "execution_count": 111,
   "metadata": {
    "collapsed": false
   },
   "outputs": [
    {
     "data": {
      "text/plain": [
       "ok"
      ]
     },
     "execution_count": 111,
     "metadata": {},
     "output_type": "execute_result"
    }
   ],
   "source": [
    "task.optimize()"
   ]
  },
  {
   "cell_type": "markdown",
   "metadata": {},
   "source": [
    "We can access to the optimal solution found through two simple instructions:"
   ]
  },
  {
   "cell_type": "code",
   "execution_count": 112,
   "metadata": {
    "collapsed": false
   },
   "outputs": [],
   "source": [
    "xx = np.zeros(numvar, float)\n",
    "task.getxx(mosek.soltype.itr,xx)"
   ]
  },
  {
   "cell_type": "markdown",
   "metadata": {},
   "source": [
    "If we also want that $\\sum_{i=1}^n x_i = 1$ we normalize the solution:"
   ]
  },
  {
   "cell_type": "code",
   "execution_count": 113,
   "metadata": {
    "collapsed": false
   },
   "outputs": [],
   "source": [
    "xx = xx/np.sum(xx)"
   ]
  },
  {
   "cell_type": "markdown",
   "metadata": {},
   "source": [
    "Now we can see the Risk Parity solution in a bar chart:"
   ]
  },
  {
   "cell_type": "code",
   "execution_count": 114,
   "metadata": {
    "collapsed": false
   },
   "outputs": [
    {
     "data": {
      "image/png": "[encoded data removed]",
      "text/plain": [
       "<matplotlib.figure.Figure at 0x1aa34358>"
      ]
     },
     "metadata": {},
     "output_type": "display_data"
    }
   ],
   "source": [
    "import matplotlib.pyplot as plt\n",
    "%matplotlib inline\n",
    "\n",
    "\n",
    "# the histogram of the data\n",
    "\n",
    "ind = np.arange(n)\n",
    "width = 1\n",
    "fig, ax = plt.subplots()\n",
    "plt.xlabel('Assets')\n",
    "plt.ylabel('Weight')\n",
    "plt.title('Risk Parity Solution')\n",
    "ax.set_xticks(ind + 0.5)\n",
    "ax.set_xticklabels(ind)\n",
    "rects1 = ax.bar(ind, xx, width)\n",
    "plt.axis([0, n, 0, np.max(xx)+0.1])\n",
    "plt.show()\n"
   ]
  },
  {
   "cell_type": "markdown",
   "metadata": {},
   "source": [
    "A Risk Parity solution satisfies the following equation:\n",
    "    \n",
    "$$\n",
    "\\frac{RC_i(x)}{x^T \\Sigma x} = b_i \\quad \\forall i \\in \\{1,..,n\\}\n",
    "$$"
   ]
  },
  {
   "cell_type": "markdown",
   "metadata": {
    "collapsed": true
   },
   "source": [
    "To verify that this is really a Risk Parity solution, we now compute the marginal risk contributions for all assets:"
   ]
  },
  {
   "cell_type": "code",
   "execution_count": 115,
   "metadata": {
    "collapsed": false
   },
   "outputs": [
    {
     "data": {
      "image/png": "[encoded data removed]",
      "text/plain": [
       "<matplotlib.figure.Figure at 0x19e15f60>"
      ]
     },
     "metadata": {},
     "output_type": "display_data"
    },
    {
     "data": {
      "image/png": "[encoded data removed]",
      "text/plain": [
       "<matplotlib.figure.Figure at 0x1f9480f0>"
      ]
     },
     "metadata": {},
     "output_type": "display_data"
    },
    {
     "data": {
      "image/png": "[encoded data removed]",
      "text/plain": [
       "<matplotlib.figure.Figure at 0x242d0c88>"
      ]
     },
     "metadata": {},
     "output_type": "display_data"
    }
   ],
   "source": [
    "RC = np.zeros(n)\n",
    "aux = Q.dot(xx)\n",
    "volatility = xx.dot(aux)\n",
    "for i in range(n):\n",
    "    RC[i]=xx[i]*aux[i]/volatility\n",
    "    \n",
    "ind = np.arange(n)\n",
    "width = 1\n",
    "\n",
    "#print budget vector\n",
    "fig, ax2 = plt.subplots()\n",
    "plt.xlabel('Assets')\n",
    "plt.ylabel('Budget Value')\n",
    "ax2.set_xticks(ind + 0.5)\n",
    "ax2.set_xticklabels(ind)\n",
    "rects2 = ax2.bar(ind, b, width, color='r')\n",
    "plt.axis([0, n, 0, np.max(b)+0.1])\n",
    "plt.show()\n",
    "\n",
    "#print marginal risk contribution\n",
    "fig, ax = plt.subplots()\n",
    "plt.xlabel('Assets')\n",
    "plt.ylabel('Marginal Risk Contribution')\n",
    "ax.set_xticks(ind + 0.5)\n",
    "ax.set_xticklabels(ind)\n",
    "rects1 = ax.bar(ind, RC, width)\n",
    "plt.axis([0, n, 0, np.max(RC)+0.1])\n",
    "plt.show()\n",
    "\n",
    "#print the differences between the two above\n",
    "fig, ax3 = plt.subplots()\n",
    "plt.xlabel('Assets')\n",
    "plt.ylabel('Risk Parity deviation')\n",
    "ax3.set_xticks(ind + 0.5)\n",
    "ax3.set_xticklabels(ind)\n",
    "rects3 = ax3.bar(ind, RC-b, width, color='y')\n",
    "bound = np.max(np.abs(np.min(RC-b)), np.abs(np.max(RC-b)))\n",
    "plt.axis([0, n, -1.1*bound, 1.1*bound])\n",
    "plt.show()\n",
    "\n"
   ]
  },
  {
   "cell_type": "code",
   "execution_count": null,
   "metadata": {
    "collapsed": true
   },
   "outputs": [],
   "source": []
  },
  {
   "cell_type": "code",
   "execution_count": null,
   "metadata": {
    "collapsed": true
   },
   "outputs": [],
   "source": []
  },
  {
   "cell_type": "code",
   "execution_count": null,
   "metadata": {
    "collapsed": true
   },
   "outputs": [],
   "source": []
  },
  {
   "cell_type": "code",
   "execution_count": null,
   "metadata": {
    "collapsed": true
   },
   "outputs": [],
   "source": []
  },
  {
   "cell_type": "code",
   "execution_count": null,
   "metadata": {
    "collapsed": true
   },
   "outputs": [],
   "source": []
  },
  {
   "cell_type": "code",
   "execution_count": null,
   "metadata": {
    "collapsed": true
   },
   "outputs": [],
   "source": []
  }
 ],
 "metadata": {
  "kernelspec": {
   "display_name": "Python 2",
   "language": "python",
   "name": "python2"
  },
  "language_info": {
   "codemirror_mode": {
    "name": "ipython",
    "version": 2
   },
   "file_extension": ".py",
   "mimetype": "text/x-python",
   "name": "python",
   "nbconvert_exporter": "python",
   "pygments_lexer": "ipython2",
   "version": "2.7.10"
  }
 },
 "nbformat": 4,
 "nbformat_minor": 0
}
