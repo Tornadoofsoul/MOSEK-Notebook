{
 "cells": [
  {
   "cell_type": "markdown",
   "metadata": {
    "collapsed": true
   },
   "source": [
    "#Conversion in Conic form"
   ]
  },
  {
   "cell_type": "markdown",
   "metadata": {},
   "source": [
    "We start from the log-barrier Risk Parity problem:\n",
    "\n",
    "$$\n",
    "\\begin{aligned}\n",
    "& \\underset{x}{\\text{min}}\n",
    "&&\\frac{1}{2} x^T \\Sigma x - c \\sum_{i=1}^{n} b_i ln(x_i)\\\\\n",
    "& \\text{s.t.}\n",
    "&& x_i > 0 \\hspace{1em} \\forall i\n",
    "\\end{aligned}\n",
    "$$\n",
    "\n",
    "\n",
    "\n",
    "The covariance matrix $\\Sigma$ is positive semidefinite by definition and therefore there exist a matrix $G$ such that\n",
    "\n",
    "$$\n",
    "\\Sigma = G G^T\n",
    "$$\n",
    "\n",
    "In general the choice of $G$ is not unique and one possible choice of $G$ is the Cholesky factorization of $\\Sigma$. For a given $G$ we have that\n",
    "\n",
    "$$\n",
    "x^T \\Sigma x = x^T G G^T x \\\\= ||\\text{ } G^Tx \\text{ }||^2\n",
    "$$\n",
    "\n",
    "If we introduce the auxiliary variable $z$, we have\n",
    "\n",
    "$$\n",
    "\\begin{aligned}\n",
    "& \\underset{x}{\\text{min}}\n",
    "&&z  - c \\sum_{i=1}^{n} b_i ln(x_i)\\\\\\\\\n",
    "& \\text{s.t.}\n",
    "&& \\frac{1}{2}z \\geq ||\\text{ } G^Tx \\text{ }||^2\\\\\n",
    "&&& x_i > 0 \\hspace{1em} \\forall i\n",
    "\\end{aligned}\n",
    "$$\n",
    "\n",
    "The constraint \n",
    "\n",
    "$$\n",
    "\\frac{1}{2}z \\geq ||\\text{ } G^Tx \\text{ }||^2\n",
    "$$\n",
    "\n",
    "can be written as\n",
    "\n",
    "$$\n",
    "(z,1,Gx) \\in \\mathcal{Q}^{n+2}_r\n",
    "$$\n",
    "\n",
    "We now introduce an auxiliary vector of $n$ variables $t$:\n",
    "\n",
    "$$\n",
    "\\begin{aligned}\n",
    "& \\underset{x}{\\text{min}}\n",
    "&&z- c \\sum_{i=1}^{n}t_i\\\\\n",
    "& \\text{s.t.}\n",
    "&& (z,1,Gx) \\in \\mathcal{Q}^{n+2}_r\\\\\n",
    "&&& t_i \\leq b_i ln(x_i) \\hspace{1em} \\forall i \\\\\n",
    "&&& x_i > 0 \\hspace{1em} \\forall i\n",
    "\\end{aligned}\n",
    "$$\n",
    "\n"
   ]
  },
  {
   "cell_type": "markdown",
   "metadata": {},
   "source": [
    "#Sequential Cuts Algorithm"
   ]
  },
  {
   "cell_type": "markdown",
   "metadata": {},
   "source": [
    "Since we can't write the constraint\n",
    "\n",
    "$$\n",
    "t_i \\leq b_i ln(x_i) \\hspace{1em} \\forall i \n",
    "$$\n",
    "\n",
    "using MOSEK Fusion API (there is no way to express the logarithmic term), we use a linear approximation of the logarithm. In the following part, we show how the logarithm function can be approximated using $k$ tangent lines in $k$ random points."
   ]
  },
  {
   "cell_type": "code",
   "execution_count": 7,
   "metadata": {
    "collapsed": false
   },
   "outputs": [
    {
     "data": {
      "image/png": "[encoded data removed]",
      "text/plain": [
       "<matplotlib.figure.Figure at 0x177d56a0>"
      ]
     },
     "metadata": {},
     "output_type": "display_data"
    }
   ],
   "source": [
    "import matplotlib.pyplot as plt\n",
    "%matplotlib inline\n",
    "import numpy as np\n",
    "\n",
    "k=3\n",
    "\n",
    "#plot the logarithmic function\n",
    "x = np.arange(0.0001,1,0.0001)\n",
    "log_x = np.log(x)\n",
    "plt.axis([0, 1, -5, 1])\n",
    "plt.plot(x,log_x)\n",
    "plt.fill_between(x, log_x, -5, alpha=0.1)\n",
    "\n",
    "#generate k random points\n",
    "rand_x = np.random.sample(k)\n",
    "rand_x.sort()\n",
    "log_rand_x = np.log(rand_x)\n",
    "plt.scatter(rand_x, log_rand_x)\n",
    "\n",
    "#compute m and c of the tangent lines (y=m*x + c)\n",
    "m_s = 1/rand_x\n",
    "c_s = - 1 + log_rand_x\n",
    "\n",
    "for i in range(k):\n",
    "    plt.plot(x, m_s[i]*x + c_s[i], color='r')\n",
    "           "
   ]
  },
  {
   "cell_type": "markdown",
   "metadata": {},
   "source": [
    "The pseudo algorithm used is described below:\n",
    "\n",
    "\n",
    "$\\textbf{ Sequential Cuts algorithm }$\n",
    "\n",
    "1. Solve the unconstrained problem to obtain initial guess for $x$ and $t$\n",
    "\n",
    "2. Repeat\n",
    "\n",
    "    2.1) Compute the tangent line ($m_i$ and $c_i$) for all $x_i$\n",
    "\n",
    "    2.2) Add the constraints $t_i < m_i x_i + c_i$ for all $i \\in \\{1,..,n\\}$ to the model\n",
    "    \n",
    "    2.3) Solve the constrained problem\n",
    "\n"
   ]
  },
  {
   "cell_type": "markdown",
   "metadata": {
    "collapsed": true
   },
   "source": [
    "#MOSEK Fusion Implementation"
   ]
  },
  {
   "cell_type": "markdown",
   "metadata": {},
   "source": [
    "First of all, we generate the random covariance matrix $Q$ and the random budget vector $b$"
   ]
  },
  {
   "cell_type": "code",
   "execution_count": 8,
   "metadata": {
    "collapsed": true
   },
   "outputs": [],
   "source": [
    "import numpy as np\n",
    "import cuts\n",
    "\n",
    "n=10\n",
    "\n",
    "#random covariance matrix\n",
    "A = np.random.sample([n,n])\n",
    "Q = np.dot(A,A.transpose())\n",
    "\n",
    "#random budget vector\n",
    "b = np.random.sample(n)\n",
    "b = b/np.sum(b)"
   ]
  },
  {
   "cell_type": "markdown",
   "metadata": {},
   "source": [
    "Now, the Cholesky factorization of the covariance matrix is performed. The result is saved in the variable $G$."
   ]
  },
  {
   "cell_type": "code",
   "execution_count": null,
   "metadata": {
    "collapsed": true
   },
   "outputs": [],
   "source": [
    "from scipy import linalg \n",
    "from mosek.fusion import *\n",
    "\n",
    "chol = linalg.cholesky(Q)\n",
    "G = DenseMatrix(chol)"
   ]
  },
  {
   "cell_type": "markdown",
   "metadata": {},
   "source": [
    "We use the <a>MOSEK Fusion API</a> to define a $\\textbf{model}$."
   ]
  },
  {
   "cell_type": "code",
   "execution_count": null,
   "metadata": {
    "collapsed": false
   },
   "outputs": [],
   "source": [
    "with Model(\"Log-Barrier\") as M:\n",
    "    \n",
    "    #define the variables\n",
    "    x = M.variable(\"x\", n, Domain.greaterThan(0.0))\n",
    "    t = M.variable(\"t\", n, Domain.lessThan(0.0))\n",
    "    z = M.variable(\"z\", 1, Domain.greaterThan(0.0))\n",
    "\n",
    "    #add the conic constraint\n",
    "    M.constraint(Expr.vstack(Expr.constTerm(1, 1.0),\n",
    "                 z.asExpr(),\n",
    "                 Expr.mul(G,x)),\n",
    "                 Domain.inRotatedQCone())\n",
    "    \n",
    "    #set up the objective function and solve\n",
    "    M.objective(ObjectiveSense.Minimize, Expr.sub(z, Expr.sum(t)))\n",
    "    M.solve()\n",
    "    \n",
    "    convergence = False\n",
    "    epsilon = 0.000000001\n",
    "    k=0\n",
    "    while (not convergence):  \n",
    "        \n",
    "        #generate m and c for all components of x\n",
    "        [m, c] = cuts.generateCuts(t.level(), x.level(), b, n, epsilon)\n",
    "        if not np.equal(m.all(),np.zeros(n).all()):\n",
    "            m_coeff = np.diag(m)\n",
    "            \n",
    "            #add the constraints and solve again\n",
    "            M.constraint(Expr.sub(t, Expr.mul(m_coeff,x)), Domain.lessThan(c))               \n",
    "            M.solve()                \n",
    "        else:\n",
    "            convergence = True\n",
    "            \n",
    "    #normalize the solution       \n",
    "    xx =  x.level()/np.sum(x.level())"
   ]
  },
  {
   "cell_type": "markdown",
   "metadata": {},
   "source": [
    "Now we can print the Risk Parity solution found:"
   ]
  },
  {
   "cell_type": "code",
   "execution_count": null,
   "metadata": {
    "collapsed": false
   },
   "outputs": [],
   "source": [
    "import barchart\n",
    "\n",
    "barchart.plot_bar(xx, 'r', 'Risk Parity Solution', 'Assets', 'Weight')"
   ]
  },
  {
   "cell_type": "markdown",
   "metadata": {},
   "source": [
    "To verify that this is really a Risk Parity solution, we now compute the marginal risk contributions for all assets:"
   ]
  },
  {
   "cell_type": "code",
   "execution_count": null,
   "metadata": {
    "collapsed": false
   },
   "outputs": [],
   "source": [
    "RC = np.zeros(n)\n",
    "aux = Q.dot(xx)\n",
    "volatility = xx.dot(aux)\n",
    "for i in range(n):\n",
    "    RC[i]=xx[i]*aux[i]/volatility\n",
    "    \n",
    "#print budget vector\n",
    "barchart.plot_bar(b, 'b', 'Budget Vector b', 'Assets', 'Budget Value')\n",
    "\n",
    "#print marginal risk contribution\n",
    "barchart.plot_bar(RC, 'r', 'Risk Contribution', 'Assets', 'Marginal Risk Contribution')\n",
    "\n",
    "#print the differences between the two above\n",
    "barchart.plot_bar(RC-b, 'y', 'Risk Parity Deviation', 'Assets', 'Deviation')\n",
    "    \n",
    " "
   ]
  },
  {
   "cell_type": "markdown",
   "metadata": {},
   "source": [
    "<a rel=\"license\" href=\"http://creativecommons.org/licenses/by-nc-nd/4.0/\"><img alt=\"Creative Commons License\" style=\"border-width:0\" src=\"https://i.creativecommons.org/l/by-nc-nd/4.0/88x31.png\" /></a><br /><span xmlns:dct=\"http://purl.org/dc/terms/\" property=\"dct:title\">MOSEK Fusion API Notebook</span> is licensed under a <a rel=\"license\" href=\"http://creativecommons.org/licenses/by-nc-nd/4.0/\">Creative Commons Attribution-NonCommercial-NoDerivatives 4.0 International License</a>."
   ]
  }
 ],
 "metadata": {
  "kernelspec": {
   "display_name": "Python 2",
   "language": "python",
   "name": "python2"
  },
  "language_info": {
   "codemirror_mode": {
    "name": "ipython",
    "version": 2
   },
   "file_extension": ".py",
   "mimetype": "text/x-python",
   "name": "python",
   "nbconvert_exporter": "python",
   "pygments_lexer": "ipython2",
   "version": "2.7.10"
  }
 },
 "nbformat": 4,
 "nbformat_minor": 0
}
