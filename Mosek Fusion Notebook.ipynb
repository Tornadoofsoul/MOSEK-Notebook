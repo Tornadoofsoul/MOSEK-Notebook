{
 "cells": [
  {
   "cell_type": "code",
   "execution_count": 111,
   "metadata": {
    "collapsed": true
   },
   "outputs": [],
   "source": [
    "#Conversion in Conic form"
   ]
  },
  {
   "cell_type": "markdown",
   "metadata": {},
   "source": [
    "We start from the log-barrier Risk Parity problem:\n",
    "\n",
    "$$\n",
    "\\begin{aligned}\n",
    "& \\underset{x}{\\text{min}}\n",
    "&&\\frac{1}{2} x^T \\Sigma x - c \\sum_{i=1}^{n} b_i ln(x_i)\\\\\n",
    "& \\text{s.t.}\n",
    "&& x_i > 0 \\hspace{1em} \\forall i\n",
    "\\end{aligned}\n",
    "$$\n",
    "\n",
    "We now introduce an auxiliary vector of $n$ variables $t$:\n",
    "\n",
    "$$\n",
    "\\begin{aligned}\n",
    "& \\underset{x}{\\text{min}}\n",
    "&&\\frac{1}{2} x^T \\Sigma x - c \\sum_{i=1}^{n}t_i\\\\\n",
    "& \\text{s.t.}\n",
    "&& t_i \\leq b_i ln(x_i) \\hspace{1em} \\forall i \\\\\n",
    "&&& x_i > 0 \\hspace{1em} \\forall i\n",
    "\\end{aligned}\n",
    "$$\n",
    "\n",
    "The covariance matrix $\\Sigma$ is positive semidefinite by definition and therefore there exist a matrix $G$ such that\n",
    "\n",
    "$$\n",
    "\\Sigma = G G^T\n",
    "$$\n",
    "\n",
    "In general the choice of $G$ is not unique and one possible choice of $G$ is the Cholesky factorization of $\\Sigma$. For a given $G$ we have that\n",
    "\n",
    "$$\n",
    "x^T \\Sigma x = x^T G G^T x \\\\= ||\\text{ } G^Tx \\text{ }||^2\n",
    "$$\n",
    "\n",
    "If we introduce another auxiliary variable $z$, we have\n",
    "\n",
    "$$\n",
    "\\begin{aligned}\n",
    "& \\underset{x}{\\text{min}}\n",
    "&&z - c \\sum_{i=1}^{n}t_i\\\\\n",
    "& \\text{s.t.}\n",
    "&& \\frac{1}{2}z \\geq ||\\text{ } G^Tx \\text{ }||^2\\\\\n",
    "&&& t_i \\leq b_i ln(x_i) \\hspace{1em} \\forall i \\\\\n",
    "&&& x_i > 0 \\hspace{1em} \\forall i\n",
    "\\end{aligned}\n",
    "$$\n",
    "\n",
    "The constraint \n",
    "\n",
    "$$\n",
    "\\frac{1}{2}z \\geq ||\\text{ } G^Tx \\text{ }||^2\n",
    "$$\n",
    "\n",
    "can be written as\n",
    "\n",
    "$$\n",
    "(z,1,Gx) \\in \\mathcal{Q}^{n+2}_r\n",
    "$$"
   ]
  },
  {
   "cell_type": "code",
   "execution_count": 112,
   "metadata": {
    "collapsed": true
   },
   "outputs": [],
   "source": [
    "#MOSEK Fusion Implementation"
   ]
  },
  {
   "cell_type": "markdown",
   "metadata": {},
   "source": [
    "First of all, we generate the random covariance matrix $Q$ and the random budget vector $b$"
   ]
  },
  {
   "cell_type": "code",
   "execution_count": 113,
   "metadata": {
    "collapsed": true
   },
   "outputs": [],
   "source": [
    "import numpy as np\n",
    "import cuts\n",
    "\n",
    "n=5\n",
    "\n",
    "#random covariance matrix\n",
    "A = np.random.sample([n,n])\n",
    "Q = np.dot(A,A.transpose())\n",
    "\n",
    "#random budget vector\n",
    "b = np.random.sample(n)\n",
    "b = b/np.sum(b)"
   ]
  },
  {
   "cell_type": "markdown",
   "metadata": {},
   "source": [
    "Now, the Cholesky factorization of the covariance matrix is performed. The result is saved in the variable $G$."
   ]
  },
  {
   "cell_type": "code",
   "execution_count": 114,
   "metadata": {
    "collapsed": true
   },
   "outputs": [],
   "source": [
    "from scipy import linalg \n",
    "from mosek.fusion import *\n",
    "\n",
    "chol = linalg.cholesky(Q)\n",
    "G = DenseMatrix(chol)"
   ]
  },
  {
   "cell_type": "markdown",
   "metadata": {},
   "source": [
    "We use the <a>MOSEK Fusion API</a> to define a $\\textbf{model}$. We initialize the model with the three vector of variables, $x$, $t$ and $z$ and then define the first constraint, i.e. \n",
    "$$(z,1,Gx) \\in \\mathcal{Q}^{n+2}_r$$"
   ]
  },
  {
   "cell_type": "code",
   "execution_count": 118,
   "metadata": {
    "collapsed": true
   },
   "outputs": [],
   "source": [
    "with Model(\"Log-Barrier\") as M:\n",
    "    #define the variables\n",
    "    x = M.variable(\"x\", n, Domain.greaterThan(0.0))\n",
    "    t = M.variable(\"t\", n, Domain.lessThan(0.0))\n",
    "    z = M.variable(\"z\", 1, Domain.greaterThan(0.0))\n",
    "\n",
    "    M.constraint(Expr.vstack(Expr.constTerm(1, 1.0),\n",
    "                 z.asExpr(),\n",
    "                 Expr.mul(G,x)),\n",
    "                 Domain.inRotatedQCone())\n",
    "    \n",
    "    M.objective(ObjectiveSense.Minimize, Expr.sub(z, Expr.sum(t)))\n",
    "    M.solve()\n",
    "    \n",
    "    convergence = False\n",
    "    epsilon = 0.000000001\n",
    "    k=0\n",
    "    while (not convergence):       \n",
    "        [m, c] = cuts.generateCuts(t.level(), x.level(), b, n, epsilon)\n",
    "        if not np.equal(m.all(),np.zeros(n).all()):\n",
    "            m_coeff = np.diag(m)\n",
    "            M.constraint(Expr.sub(t, Expr.mul(m_coeff,x)), Domain.lessThan(c))               \n",
    "            M.solve()                \n",
    "        else:\n",
    "            convergence = True\n",
    "            k = k+1 \n",
    "    xx =  x.level()/np.sum(x.level())"
   ]
  },
  {
   "cell_type": "markdown",
   "metadata": {},
   "source": [
    "Since MOSEK Fusion doesn't allow to write logarithmic term, we approximate it ......TODO. "
   ]
  },
  {
   "cell_type": "markdown",
   "metadata": {},
   "source": [
    "We set the objective function into the model and then solve without constraints on $t$ to initialize the sequential-cuts algorithm:"
   ]
  },
  {
   "cell_type": "markdown",
   "metadata": {},
   "source": [
    "TODO"
   ]
  },
  {
   "cell_type": "code",
   "execution_count": null,
   "metadata": {
    "collapsed": false
   },
   "outputs": [],
   "source": [
    "\n",
    "    \n",
    "import matplotlib.pyplot as plt\n",
    "%matplotlib inline\n",
    "import barchart\n",
    "barchart.plot_bar(xx, 'r', 'Risk Parity Solution', 'Assets', 'Weight')\n",
    "RC = np.zeros(n)\n",
    "aux = Q.dot(xx)\n",
    "volatility = xx.dot(aux)\n",
    "for i in range(n):\n",
    "    RC[i]=xx[i]*aux[i]/volatility\n",
    "    \n",
    "#print budget vector\n",
    "barchart.plot_bar(b, 'b', 'Budget Vector b', 'Assets', 'Budget Value')\n",
    "\n",
    "#print marginal risk contribution\n",
    "barchart.plot_bar(RC, 'r', 'Risk Contribution', 'Assets', 'Marginal Risk Contribution')\n",
    "\n",
    "#print the differences between the two above\n",
    "barchart.plot_bar(RC-b, 'y', 'Risk Parity Deviation', 'Assets', 'Deviation')\n",
    "    \n",
    " "
   ]
  },
  {
   "cell_type": "code",
   "execution_count": null,
   "metadata": {
    "collapsed": true
   },
   "outputs": [],
   "source": []
  },
  {
   "cell_type": "code",
   "execution_count": null,
   "metadata": {
    "collapsed": true
   },
   "outputs": [],
   "source": []
  },
  {
   "cell_type": "code",
   "execution_count": null,
   "metadata": {
    "collapsed": true
   },
   "outputs": [],
   "source": []
  },
  {
   "cell_type": "code",
   "execution_count": null,
   "metadata": {
    "collapsed": true
   },
   "outputs": [],
   "source": []
  }
 ],
 "metadata": {
  "kernelspec": {
   "display_name": "Python 2",
   "language": "python",
   "name": "python2"
  },
  "language_info": {
   "codemirror_mode": {
    "name": "ipython",
    "version": 2
   },
   "file_extension": ".py",
   "mimetype": "text/x-python",
   "name": "python",
   "nbconvert_exporter": "python",
   "pygments_lexer": "ipython2",
   "version": "2.7.10"
  }
 },
 "nbformat": 4,
 "nbformat_minor": 0
}
